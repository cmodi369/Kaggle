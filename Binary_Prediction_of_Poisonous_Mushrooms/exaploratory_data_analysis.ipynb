{
 "cells": [
  {
   "cell_type": "code",
   "execution_count": null,
   "id": "4b261b1c-5058-4e58-8742-7da2b70cf217",
   "metadata": {},
   "outputs": [],
   "source": [
    "import pandas as pd\n",
    "import matplotlib.pyplot as plt\n",
    "import seaborn as sns"
   ]
  },
  {
   "cell_type": "code",
   "execution_count": null,
   "id": "807d3c0c-5e8e-4e8f-b893-40fe198ef973",
   "metadata": {},
   "outputs": [],
   "source": [
    "data = pd.read_csv(\"data/train.csv\")\n",
    "test_data = pd.read_csv(\"data/test.csv\")"
   ]
  },
  {
   "cell_type": "code",
   "execution_count": null,
   "id": "2089354f-32a5-4e49-9d55-9827a136013a",
   "metadata": {},
   "outputs": [],
   "source": [
    "data.head()"
   ]
  },
  {
   "cell_type": "code",
   "execution_count": null,
   "id": "d3513188-6f4b-4725-b62a-ab18d9e8315d",
   "metadata": {},
   "outputs": [],
   "source": [
    "data.info(verbose=True, show_counts=True)"
   ]
  },
  {
   "cell_type": "code",
   "execution_count": null,
   "id": "a3b4f4a3-d660-45d4-ac87-684d4dbc7fcd",
   "metadata": {},
   "outputs": [],
   "source": [
    "test_data.info(verbose=True, show_counts=True)"
   ]
  },
  {
   "cell_type": "code",
   "execution_count": null,
   "id": "a3866c00-3cc8-40b9-b8f0-7571fde3ab0f",
   "metadata": {},
   "outputs": [],
   "source": [
    "data.describe()"
   ]
  },
  {
   "cell_type": "code",
   "execution_count": null,
   "id": "b7748983-2e86-414f-ae44-06cd9fa844b8",
   "metadata": {},
   "outputs": [],
   "source": [
    "# Create the scatter plot\n",
    "sns.boxplot(data, x=\"class\", y=\"cap-diameter\")"
   ]
  },
  {
   "cell_type": "markdown",
   "id": "2271a755-2ba2-4c9d-9469-090a073d018e",
   "metadata": {},
   "source": [
    "#### cap-diameter: no difference in distribution visibly, can not divide based on the value"
   ]
  },
  {
   "cell_type": "code",
   "execution_count": null,
   "id": "26f6113f-74a9-4fd0-9602-b266d086e6ce",
   "metadata": {},
   "outputs": [],
   "source": [
    "def print_category_analysis(col_name: pd.Series):\n",
    "    print(data[col_name].value_counts().to_string())\n",
    "    print(data[col_name].unique())\n",
    "    print(set(test_data[col_name]) & set(data[col_name]))"
   ]
  },
  {
   "cell_type": "code",
   "execution_count": null,
   "id": "0823010f-42aa-4d47-a5fe-c39e0fb89d87",
   "metadata": {},
   "outputs": [],
   "source": [
    "print_category_analysis(\"cap-shape\")"
   ]
  },
  {
   "cell_type": "markdown",
   "id": "e175721f-aa63-4197-8657-ae6ae899335f",
   "metadata": {},
   "source": [
    "#### cap-shape: Set separate category other for category with less than 3 values"
   ]
  },
  {
   "cell_type": "code",
   "execution_count": null,
   "id": "c05188f7-5d86-485d-b687-f70a152061d4",
   "metadata": {},
   "outputs": [],
   "source": [
    "print_category_analysis(\"cap-surface\")"
   ]
  },
  {
   "cell_type": "markdown",
   "id": "22487073-6a67-4de9-bb46-b7a48ed80b76",
   "metadata": {},
   "source": [
    "#### cap-surface: Set separate category other for category with less than 3 values"
   ]
  },
  {
   "cell_type": "code",
   "execution_count": null,
   "id": "bac6b01a-b900-400e-83e6-ed63163b59b7",
   "metadata": {},
   "outputs": [],
   "source": [
    "print_category_analysis(\"cap-color\")"
   ]
  },
  {
   "cell_type": "code",
   "execution_count": null,
   "id": "034535e5-2633-408c-9160-2a4ce0690757",
   "metadata": {},
   "outputs": [],
   "source": [
    "print_category_analysis(\"does-bruise-or-bleed\")"
   ]
  },
  {
   "cell_type": "code",
   "execution_count": null,
   "id": "5cdaf430-1688-4ecc-80c5-22bf300ab0b6",
   "metadata": {},
   "outputs": [],
   "source": [
    "print_category_analysis(\"gill-attachment\")"
   ]
  },
  {
   "cell_type": "code",
   "execution_count": null,
   "id": "b97b2c3a-7f8e-4cda-a6d0-d997ad324408",
   "metadata": {},
   "outputs": [],
   "source": [
    "print_category_analysis(\"gill-spacing\")"
   ]
  },
  {
   "cell_type": "code",
   "execution_count": null,
   "id": "d269c0ce-a775-40d6-a0bc-c23c6a9e5fe7",
   "metadata": {},
   "outputs": [],
   "source": [
    "print_category_analysis(\"gill-color\")"
   ]
  },
  {
   "cell_type": "code",
   "execution_count": null,
   "id": "fb6f9753-71c6-4920-a141-57a221fffc8b",
   "metadata": {},
   "outputs": [],
   "source": [
    "sns.boxplot(x=\"class\", y=\"stem-height\", data=data)"
   ]
  },
  {
   "cell_type": "code",
   "execution_count": null,
   "id": "a461e26a-00bf-404c-bd90-940b0747dcff",
   "metadata": {},
   "outputs": [],
   "source": [
    "sns.boxplot(data, x=\"class\", y=\"stem-width\")"
   ]
  },
  {
   "cell_type": "code",
   "execution_count": null,
   "id": "ad936bf2-436a-4c9b-91b7-d370e6eab1ff",
   "metadata": {},
   "outputs": [],
   "source": [
    "print_category_analysis(\"stem-root\")"
   ]
  },
  {
   "cell_type": "code",
   "execution_count": null,
   "id": "cb7430bd-64a0-40ba-94c8-dbe20178d2c0",
   "metadata": {},
   "outputs": [],
   "source": [
    "print_category_analysis(\"stem-surface\")"
   ]
  },
  {
   "cell_type": "code",
   "execution_count": null,
   "id": "18d404d6-3031-4c85-9777-731a7e4d25ba",
   "metadata": {},
   "outputs": [],
   "source": [
    "print_category_analysis(\"stem-surface\")"
   ]
  },
  {
   "cell_type": "code",
   "execution_count": null,
   "id": "37b14da2-ee5f-47f1-b06d-0f3afe82166b",
   "metadata": {},
   "outputs": [],
   "source": [
    "print_category_analysis(\"stem-color\")"
   ]
  },
  {
   "cell_type": "code",
   "execution_count": null,
   "id": "684e03c4-2c5d-44d2-8273-90932f12e3fd",
   "metadata": {},
   "outputs": [],
   "source": [
    "print_category_analysis(\"veil-type\")"
   ]
  },
  {
   "cell_type": "code",
   "execution_count": null,
   "id": "c9a45356-4ec2-4d56-bf44-e0d496211186",
   "metadata": {},
   "outputs": [],
   "source": [
    "print_category_analysis(\"veil-color\")"
   ]
  },
  {
   "cell_type": "code",
   "execution_count": null,
   "id": "3b18b7c7-3566-40a1-a01a-648f280c47f1",
   "metadata": {},
   "outputs": [],
   "source": [
    "print_category_analysis(\"has-ring\")"
   ]
  },
  {
   "cell_type": "code",
   "execution_count": null,
   "id": "c30811f6-5112-4591-be3e-88434a1b044d",
   "metadata": {},
   "outputs": [],
   "source": [
    "print_category_analysis(\"ring-type\")"
   ]
  },
  {
   "cell_type": "code",
   "execution_count": null,
   "id": "96583b21-59f9-4ec6-ac82-6459c45826cf",
   "metadata": {},
   "outputs": [],
   "source": [
    "print_category_analysis(\"spore-print-color\")"
   ]
  },
  {
   "cell_type": "code",
   "execution_count": null,
   "id": "e5f22557-402e-421d-b4e5-70b9a1062d86",
   "metadata": {},
   "outputs": [],
   "source": [
    "print_category_analysis(\"habitat\")"
   ]
  },
  {
   "cell_type": "code",
   "execution_count": null,
   "id": "b0d56b40-8680-48a3-8456-fc61e1f85598",
   "metadata": {},
   "outputs": [],
   "source": [
    "print_category_analysis(\"season\")"
   ]
  },
  {
   "cell_type": "code",
   "execution_count": null,
   "id": "5b1b9975-cd0c-4743-9953-f2236167a3a6",
   "metadata": {},
   "outputs": [],
   "source": []
  }
 ],
 "metadata": {
  "kernelspec": {
   "display_name": "Python 3 (ipykernel)",
   "language": "python",
   "name": "python3"
  },
  "language_info": {
   "codemirror_mode": {
    "name": "ipython",
    "version": 3
   },
   "file_extension": ".py",
   "mimetype": "text/x-python",
   "name": "python",
   "nbconvert_exporter": "python",
   "pygments_lexer": "ipython3",
   "version": "3.11.5"
  }
 },
 "nbformat": 4,
 "nbformat_minor": 5
}
